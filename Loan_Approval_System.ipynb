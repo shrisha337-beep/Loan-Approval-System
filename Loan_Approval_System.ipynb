{
  "nbformat": 4,
  "nbformat_minor": 0,
  "metadata": {
    "colab": {
      "provenance": [],
      "authorship_tag": "ABX9TyPd2XE9emSSD7TyjdlnFDJo",
      "include_colab_link": true
    },
    "kernelspec": {
      "name": "python3",
      "display_name": "Python 3"
    },
    "language_info": {
      "name": "python"
    }
  },
  "cells": [
    {
      "cell_type": "markdown",
      "metadata": {
        "id": "view-in-github",
        "colab_type": "text"
      },
      "source": [
        "<a href=\"https://colab.research.google.com/github/shrisha337-beep/Loan-Approval-System/blob/main/Loan_Approval_System.ipynb\" target=\"_parent\"><img src=\"https://colab.research.google.com/assets/colab-badge.svg\" alt=\"Open In Colab\"/></a>"
      ]
    },
    {
      "cell_type": "markdown",
      "source": [
        "Step 0: Installing Dependencies"
      ],
      "metadata": {
        "id": "iGbzPwcC_9qj"
      }
    },
    {
      "cell_type": "code",
      "execution_count": null,
      "metadata": {
        "id": "6Do_xzWA_2yP"
      },
      "outputs": [],
      "source": [
        "!pip install numpy pandas matplotlib sklearn seaborn"
      ]
    },
    {
      "cell_type": "markdown",
      "source": [
        "Step 1: Importing Libraries"
      ],
      "metadata": {
        "id": "868Ro-bYAjGd"
      }
    },
    {
      "cell_type": "code",
      "source": [
        "import numpy as np\n",
        "import pandas as pd\n",
        "import matplotlib as plt\n",
        "import sklearn\n",
        "import seaborn as sns\n",
        "from sklearn.model_selection import train_test_split\n",
        "from sklearn.linear_model import LogisticRegression\n",
        "from sklearn.metrics import accuracy_score\n",
        "from sklearn.preprocessing import LabelEncoder, StandardScaler\n",
        "from sklearn.metrics import confusion_matrix, classification_report, accuracy_score, precision_score, recall_score, f1_score\n"
      ],
      "metadata": {
        "id": "cOTsnZkMApaK"
      },
      "execution_count": null,
      "outputs": []
    },
    {
      "cell_type": "markdown",
      "source": [
        "Step 2: Take DataSet"
      ],
      "metadata": {
        "id": "7epoPNrVB_z8"
      }
    },
    {
      "cell_type": "code",
      "source": [
        "from google.colab import files\n",
        "import io\n",
        "print(\"Please upload your own dataset or press Cancel to use default one\")\n",
        "uploaded = files.upload()\n",
        "if uploaded:\n",
        "  for fn in uploaded.keys():\n",
        "    for filename in uploaded.keys():\n",
        "    df = pd.read_csv(io.BytesIO(uploaded[filename]))\n",
        "else:\n",
        "  print(\"No file uploaded, using default DataSet:\")\n",
        "  # Read the generated CSV directly from the file system\n",
        "  df = pd.read_csv('data.csv')\n",
        "\n"
      ],
      "metadata": {
        "id": "a5l8b0MqCD8N"
      },
      "execution_count": null,
      "outputs": []
    },
    {
      "cell_type": "markdown",
      "source": [
        "Step 3: Data Pre processsing"
      ],
      "metadata": {
        "id": "rd2vp3gDFdhN"
      }
    }
  ]
}